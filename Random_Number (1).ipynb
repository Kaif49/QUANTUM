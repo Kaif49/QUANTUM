{
 "cells": [
  {
   "cell_type": "code",
   "execution_count": 1,
   "id": "b57fa0ea-e58b-4c3b-9e25-1d94c603d81f",
   "metadata": {
    "tags": []
   },
   "outputs": [],
   "source": [
    "from qiskit import *\n",
    "from qiskit.tools.visualization import plot_histogram \n",
    "from qiskit.tools.visualization import matplotlib\n",
    "%matplotlib inline"
   ]
  },
  {
   "cell_type": "code",
   "execution_count": 2,
   "id": "121e00c7-2e2b-4848-8537-18db35447734",
   "metadata": {
    "tags": []
   },
   "outputs": [],
   "source": [
    "##Function to convert integer into binary \n",
    "##bitlength function returns the length of the binary digit\n",
    "def bitlength(number):\n",
    "    binary=bin(number)\n",
    "    \n",
    "    return len(binary.replace(\"0b\",\"\"))"
   ]
  },
  {
   "cell_type": "code",
   "execution_count": 3,
   "id": "5f0a608b-d002-4023-af2f-6a01e7b0cf71",
   "metadata": {
    "tags": []
   },
   "outputs": [],
   "source": [
    "#Random function : \n",
    "#1-->Creates a quantum circuit with number of qubit=bit_length\n",
    "#2-->Apply H gate to each bit and put a measure\n",
    "#3-->Convert the result into integer\n",
    "#4-->Convert the integer into decimal equivalet and return the decimal bit \n",
    "\n",
    "def randomnumber(length):\n",
    "    circuit=QuantumCircuit(length,length)\n",
    "    for i in range(length):\n",
    "        circuit.h(i)\n",
    "        \n",
    "    circuit.measure(range(length),range(length))\n",
    "    \n",
    "    circuit.draw(output='mpl')\n",
    "    simulator=Aer.get_backend('qasm_simulator')\n",
    "    res=execute(circuit,backend=simulator,shots=1,memory=True)\n",
    "    \n",
    "    str1=\" \"\n",
    "    binary_str=str1.join(res.result().get_memory())\n",
    "    binary=int(binary_str)\n",
    "    decimal, i = 0, 0\n",
    "    while(binary != 0):\n",
    "        dec = binary % 10\n",
    "        decimal = decimal + dec * pow(2, i)\n",
    "        binary = binary//10\n",
    "        i += 1\n",
    "    return decimal\n",
    "    \n",
    "    \n",
    "    \n",
    "     \n",
    "    \n",
    "    \n",
    "   \n",
    "    \n",
    "    \n",
    "    "
   ]
  },
  {
   "cell_type": "code",
   "execution_count": 4,
   "id": "9854ed61-ab23-493f-a2b9-ec993a0537f5",
   "metadata": {
    "tags": []
   },
   "outputs": [],
   "source": [
    "#1-->Calls function bitlentght to find the length of the bit required\n",
    "#2-->Calls random number and print the result\n",
    "#\n",
    "def function():\n",
    "    max=int(input(\"enter value 0 from max:\"))\n",
    "    test=bitlength(max)\n",
    "    result=randomnumber(test)\n",
    "    \n",
    "    while(True):\n",
    "        if result > max:\n",
    "            result=randomnumber(test)\n",
    "        else :\n",
    "            print(result)\n",
    "            break\n",
    "    print\n",
    "        \n",
    "    "
   ]
  },
  {
   "cell_type": "code",
   "execution_count": 5,
   "id": "2467fda0-ebfa-4d7c-9add-2743f967479d",
   "metadata": {
    "tags": []
   },
   "outputs": [
    {
     "name": "stdin",
     "output_type": "stream",
     "text": [
      "enter value 0 from max: 100\n"
     ]
    },
    {
     "name": "stdout",
     "output_type": "stream",
     "text": [
      "90\n"
     ]
    }
   ],
   "source": [
    "function()"
   ]
  }
 ],
 "metadata": {
  "kernelspec": {
   "display_name": "Python 3 (ipykernel)",
   "language": "python",
   "name": "python3"
  },
  "language_info": {
   "codemirror_mode": {
    "name": "ipython",
    "version": 3
   },
   "file_extension": ".py",
   "mimetype": "text/x-python",
   "name": "python",
   "nbconvert_exporter": "python",
   "pygments_lexer": "ipython3",
   "version": "3.10.8"
  },
  "widgets": {
   "application/vnd.jupyter.widget-state+json": {
    "state": {},
    "version_major": 2,
    "version_minor": 0
   }
  }
 },
 "nbformat": 4,
 "nbformat_minor": 5
}
